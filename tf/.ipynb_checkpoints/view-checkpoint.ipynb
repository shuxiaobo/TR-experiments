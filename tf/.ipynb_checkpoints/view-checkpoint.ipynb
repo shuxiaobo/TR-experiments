{
 "cells": [
  {
   "cell_type": "code",
   "execution_count": 1,
   "metadata": {},
   "outputs": [
    {
     "ename": "ModuleNotFoundError",
     "evalue": "No module named 'tf'",
     "output_type": "error",
     "traceback": [
      "\u001b[0;31m---------------------------------------------------------------------------\u001b[0m",
      "\u001b[0;31mModuleNotFoundError\u001b[0m                       Traceback (most recent call last)",
      "\u001b[0;32m<ipython-input-1-656fcf426c24>\u001b[0m in \u001b[0;36m<module>\u001b[0;34m()\u001b[0m\n\u001b[1;32m      1\u001b[0m \u001b[0;32mimport\u001b[0m \u001b[0mjson\u001b[0m\u001b[0;34m\u001b[0m\u001b[0m\n\u001b[0;32m----> 2\u001b[0;31m \u001b[0;32mfrom\u001b[0m \u001b[0mtf\u001b[0m\u001b[0;34m.\u001b[0m\u001b[0mdatasets\u001b[0m\u001b[0;34m.\u001b[0m\u001b[0mqa\u001b[0m \u001b[0;32mimport\u001b[0m \u001b[0mQADataSetBase\u001b[0m\u001b[0;34m\u001b[0m\u001b[0m\n\u001b[0m\u001b[1;32m      3\u001b[0m \u001b[0;32mfrom\u001b[0m \u001b[0mtypes\u001b[0m \u001b[0;32mimport\u001b[0m \u001b[0mSimpleNamespace\u001b[0m\u001b[0;34m\u001b[0m\u001b[0m\n",
      "\u001b[0;31mModuleNotFoundError\u001b[0m: No module named 'tf'"
     ]
    }
   ],
   "source": [
    "import json\n",
    "from datasets.qa import QADataSetBase\n",
    "from types import SimpleNamespace"
   ]
  },
  {
   "cell_type": "code",
   "execution_count": 2,
   "metadata": {
    "collapsed": true
   },
   "outputs": [],
   "source": [
    "args = {\n",
    "    \"activation\": \"sin\",\n",
    "    \"args_file\": \"args.json\",\n",
    "    \"batch_size\": 256,\n",
    "    \"bidirectional\": True,\n",
    "    \"char_embedding_dim\": 20,\n",
    "    \"char_file\": \"char2id.txt\",\n",
    "    \"char_hidden_size\": 20,\n",
    "    \"data_root\": \"../data/AIC\",\n",
    "    \"dataset\": \"AIC\",\n",
    "    \"debug\": False,\n",
    "    \"embedding_dim\": 300,\n",
    "    \"embedding_file\": \"data/glove.6B/glove.6B.100d.txt\",\n",
    "    \"ensemble\": False,\n",
    "    \"evaluate_every_n\": 400,\n",
    "    \"grad_clipping\": 10,\n",
    "    \"hidden_size\": 128,\n",
    "    \"keep_prob\": 0.5,\n",
    "    \"l2\": 0.005,\n",
    "    \"log_file\": None,\n",
    "    \"lr\": 0.0008,\n",
    "    \"max_char_len\": 20,\n",
    "    \"max_count\": None,\n",
    "    \"num_epoches\": 100,\n",
    "    \"num_layers\": 2,\n",
    "    \"num_words\": 105000,\n",
    "    \"optimizer\": \"ADAM\",\n",
    "    \"patience\": 100,\n",
    "    \"print_every_n\": 20,\n",
    "    \"random_seed\": 2088,\n",
    "    \"rnn_type\": \"gru\",\n",
    "    \"save_val\": False,\n",
    "    \"skip_top\": 0,\n",
    "    \"test\":False,\n",
    "    \"test_file\": \"test_sub.json\",\n",
    "    \"tmp_dir\": \"../data/processed\",\n",
    "    \"train\": True,\n",
    "    \"train_file\": \"train.json\",\n",
    "    \"use_char_embedding\": True,\n",
    "    \"valid_file\": \"test.json\",\n",
    "    \"weight_path\": \"weights\",\n",
    "    \"word_file\": \"word2id.txt\"\n",
    "}"
   ]
  },
  {
   "cell_type": "code",
   "execution_count": 3,
   "metadata": {},
   "outputs": [
    {
     "ename": "NameError",
     "evalue": "name 'SimpleNamespace' is not defined",
     "output_type": "error",
     "traceback": [
      "\u001b[0;31m---------------------------------------------------------------------------\u001b[0m",
      "\u001b[0;31mNameError\u001b[0m                                 Traceback (most recent call last)",
      "\u001b[0;32m<ipython-input-3-4f42494ac072>\u001b[0m in \u001b[0;36m<module>\u001b[0;34m()\u001b[0m\n\u001b[0;32m----> 1\u001b[0;31m \u001b[0margs\u001b[0m \u001b[0;34m=\u001b[0m \u001b[0mSimpleNamespace\u001b[0m\u001b[0;34m(\u001b[0m\u001b[0;34m**\u001b[0m\u001b[0margs\u001b[0m\u001b[0;34m)\u001b[0m\u001b[0;34m\u001b[0m\u001b[0m\n\u001b[0m\u001b[1;32m      2\u001b[0m \u001b[0mdataset\u001b[0m \u001b[0;34m=\u001b[0m \u001b[0mQADataSetBase\u001b[0m\u001b[0;34m(\u001b[0m\u001b[0margs\u001b[0m\u001b[0;34m)\u001b[0m\u001b[0;34m\u001b[0m\u001b[0m\n",
      "\u001b[0;31mNameError\u001b[0m: name 'SimpleNamespace' is not defined"
     ]
    }
   ],
   "source": [
    "args = SimpleNamespace(**args)\n",
    "dataset = QADataSetBase(args)"
   ]
  },
  {
   "cell_type": "code",
   "execution_count": null,
   "metadata": {
    "collapsed": true
   },
   "outputs": [],
   "source": []
  }
 ],
 "metadata": {
  "kernelspec": {
   "display_name": "Python 3",
   "language": "python",
   "name": "python3"
  },
  "language_info": {
   "codemirror_mode": {
    "name": "ipython",
    "version": 3
   },
   "file_extension": ".py",
   "mimetype": "text/x-python",
   "name": "python",
   "nbconvert_exporter": "python",
   "pygments_lexer": "ipython3",
   "version": "3.6.1"
  }
 },
 "nbformat": 4,
 "nbformat_minor": 1
}
